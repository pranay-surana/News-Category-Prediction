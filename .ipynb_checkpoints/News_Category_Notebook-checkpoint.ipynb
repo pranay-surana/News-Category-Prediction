{
 "cells": [
  {
   "cell_type": "markdown",
   "metadata": {},
   "source": [
    "<B>Introduction"
   ]
  },
  {
   "cell_type": "markdown",
   "metadata": {},
   "source": [
    "Huffpost, a US based company which reports news through online medium, on their website. One of main functionality of Huffpost is, they take inputs from readers and covers only those topics readers are interested in. Therefore, those news needs to be categorized as per its type. \n",
    "It would be best for the company if they could build an algorithm which could categorize news article on the basis of only news headline and short descriptions about the headline. To build an optimized algorithm for this problem, Huffpost only have to input very basic details about the news such as, news heading, short description of the news, etc. It will be categorized automatically without any involvement of human to read news and categorizing it manually. This will boost the process of reporting fresh news on portals. "
   ]
  },
  {
   "cell_type": "markdown",
   "metadata": {},
   "source": [
    "<B>Problem Statement"
   ]
  },
  {
   "cell_type": "markdown",
   "metadata": {},
   "source": [
    "The problem is based on Text Classification of the News articles. The goal is to categorize new articles into multiple classes as per its type, given heading and short description about news articles. ."
   ]
  },
  {
   "cell_type": "markdown",
   "metadata": {},
   "source": [
    "Load Python Packages "
   ]
  },
  {
   "cell_type": "code",
   "execution_count": null,
   "metadata": {},
   "outputs": [],
   "source": []
  }
 ],
 "metadata": {
  "kernelspec": {
   "display_name": "Python 3",
   "language": "python",
   "name": "python3"
  },
  "language_info": {
   "codemirror_mode": {
    "name": "ipython",
    "version": 3
   },
   "file_extension": ".py",
   "mimetype": "text/x-python",
   "name": "python",
   "nbconvert_exporter": "python",
   "pygments_lexer": "ipython3",
   "version": "3.7.6"
  }
 },
 "nbformat": 4,
 "nbformat_minor": 4
}
